{
 "cells": [
  {
   "cell_type": "markdown",
   "metadata": {},
   "source": [
    "The first step is to find and retrieve Jenkinsfile(s) from various open source repositories. We decided to use GitHub's REST API for our application. We are trying to access a jenkinsfile's raw content so that we can append it to one text file that contains all the jenkinsfiles' contents. This process will streamline parsing and generating results of analyses later on.\n",
    "\n",
    "We are using a Jupyter Notebook from Anaconda with Python 3.6, we use the following packages to start off with our task."
   ]
  },
  {
   "cell_type": "code",
   "execution_count": null,
   "metadata": {},
   "outputs": [],
   "source": [
    "import requests # Helps working with HTTP requests such as GitHub API.\n",
    "import os # For performing tasks on shell.\n",
    "import subprocess # For performing tasks on shell.\n",
    "import logging # For creating log files"
   ]
  },
  {
   "cell_type": "code",
   "execution_count": null,
   "metadata": {},
   "outputs": [],
   "source": [
    "'''Configure the log file'''\n",
    "LOG_FILENAME = 'course_proj.log'\n",
    "logging.basicConfig(\n",
    "    filename=LOG_FILENAME,\n",
    "    level=logging.DEBUG,\n",
    "    format='%(asctime)s %(levelname)s %(message)s',\n",
    "    filemode='w'\n",
    ")"
   ]
  },
  {
   "cell_type": "code",
   "execution_count": null,
   "metadata": {},
   "outputs": [],
   "source": [
    "'''GitHub REST API at work with the Python REQUESTS package.\n",
    "\n",
    "We ran a query that gives us all the files whose names match the string \"jenkinsfiles\", following proper convention.'''\n",
    "\n",
    "repositories = requests.get('https://api.github.com/search/code?q=pipeline+NOT+node+in:file+filename:jenkinsfile+?page=1&per_page=100', auth = ('kshirsagarpratik', 'Chinku95'))"
   ]
  },
  {
   "cell_type": "code",
   "execution_count": null,
   "metadata": {},
   "outputs": [],
   "source": [
    "''' Iteratively retrieving the raw text content of all the jenkinsfiles returned by the API call and appending to a single textfile called \"Jenkinsfile.\"'''\n",
    "\n",
    "print('Attempting to retrieve jenkinsfile(s) from various GitHub repositories through it\\'s REST API...')\n",
    "logging.info('Attempting to retrieve jenkinsfile(s) from various GitHub repositories through it\\'s REST API...')\n",
    "\n",
    "number = 1 # iteratively store jenkinsfiles locally.\n",
    "try:\n",
    "    for repo in repositories.json()['items']:\n",
    "        print (repo['url'])\n",
    "        logging.info (repo['url'])\n",
    "        jenkinsfile = requests.get(repo['url'], auth = ('kshirsagarpratik', 'Chinku95')) # Authentication for GitHub\n",
    "        print(jenkinsfile)\n",
    "        logging.info(jenkinsfile)\n",
    "        jenkinsfile_content = requests.get(jenkinsfile.json()['download_url'], auth = ('kshirsagarpratik', 'Chinku95'))\n",
    "        file_pointer = open('Jenkinsfile' + str(number) + '.txt', 'a+')\n",
    "        file_pointer.write(jenkinsfile_content.text)\n",
    "        file_pointer.close()\n",
    "        number = number + 1\n",
    "except Exception as e:\n",
    "    print('Error occured in retrieving jenkinsfile(s)')\n",
    "    logging.error('Error occured in retrieving jenkinsfile(s)')\n",
    "    # LOG THIS INTO SOME FILE"
   ]
  },
  {
   "cell_type": "code",
   "execution_count": null,
   "metadata": {},
   "outputs": [],
   "source": []
  },
  {
   "cell_type": "code",
   "execution_count": null,
   "metadata": {},
   "outputs": [],
   "source": []
  },
  {
   "cell_type": "code",
   "execution_count": null,
   "metadata": {},
   "outputs": [],
   "source": []
  }
 ],
 "metadata": {
  "kernelspec": {
   "display_name": "Python 3",
   "language": "python",
   "name": "python3"
  },
  "language_info": {
   "codemirror_mode": {
    "name": "ipython",
    "version": 3
   },
   "file_extension": ".py",
   "mimetype": "text/x-python",
   "name": "python",
   "nbconvert_exporter": "python",
   "pygments_lexer": "ipython3",
   "version": "3.6.4"
  }
 },
 "nbformat": 4,
 "nbformat_minor": 2
}
