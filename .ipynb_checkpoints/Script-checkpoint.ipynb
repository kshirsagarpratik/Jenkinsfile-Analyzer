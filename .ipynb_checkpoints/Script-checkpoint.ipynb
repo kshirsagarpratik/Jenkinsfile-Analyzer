{
 "cells": [
  {
   "cell_type": "markdown",
   "metadata": {},
   "source": [
    "The first step is to find and retrieve Jenkinsfile(s) from various open source repositories. We decided to use GitHub's REST API for our application. We are trying to access a jenkinsfile's raw content so that we can append it to one text file that contains all the jenkinsfiles' contents. This process will streamline parsing and generating results of analyses later on.\n",
    "\n",
    "We are using a Jupyter Notebook from Anaconda with Python 3.6, we use the following packages to start off with our task."
   ]
  },
  {
   "cell_type": "code",
   "execution_count": 1,
   "metadata": {},
   "outputs": [],
   "source": [
    "import requests # Helps working with HTTP requests such as GitHub API.\n",
    "import os # For performing tasks on shell.\n",
    "import subprocess # For performing tasks on shell.\n",
    "import logging # For creating log files"
   ]
  },
  {
   "cell_type": "code",
   "execution_count": 2,
   "metadata": {},
   "outputs": [],
   "source": [
    "'''Configure the log file'''\n",
    "LOG_FILENAME = 'course_proj.log'\n",
    "logging.basicConfig(\n",
    "    filename=LOG_FILENAME,\n",
    "    level=logging.DEBUG,\n",
    "    format='%(asctime)s %(levelname)s %(message)s',\n",
    "    filemode='w'\n",
    ")"
   ]
  },
  {
   "cell_type": "code",
   "execution_count": 3,
   "metadata": {},
   "outputs": [],
   "source": [
    "'''GitHub REST API at work with the Python REQUESTS package.\n",
    "\n",
    "We ran a query that gives us all the files whose names match the string \"jenkinsfiles\", following proper convention.'''\n",
    "\n",
    "repositories = requests.get('https://api.github.com/search/code?q=pipeline+NOT+node+in:file+filename:jenkinsfile+?page=1&per_page=100', auth = ('kshirsagarpratik', 'Chinku95'))"
   ]
  },
  {
   "cell_type": "code",
   "execution_count": 4,
   "metadata": {},
   "outputs": [
    {
     "name": "stdout",
     "output_type": "stream",
     "text": [
      "Attempting to retrieve jenkinsfile(s) from various GitHub repositories through it's REST API...\n",
      "https://api.github.com/repositories/121249971/contents/Jenkinsfile?ref=6435ca20fcbf0f2d33c54f005879c556add89093\n",
      "<Response [200]>\n",
      "https://api.github.com/repositories/104853848/contents/Jenkinsfile?ref=59e0f2e65d7e7fb22190e0efc638acddcdb9df6f\n",
      "<Response [200]>\n",
      "https://api.github.com/repositories/77950722/contents/Jenkinsfile?ref=39741f7abbc70533cc8ffdc05c77473b2888e0f4\n",
      "<Response [200]>\n",
      "https://api.github.com/repositories/74116737/contents/Jenkinsfile?ref=f1335c7bb428b58ed0d464d0591ce72771bb95c8\n",
      "<Response [200]>\n",
      "https://api.github.com/repositories/100200400/contents/Jenkinsfile?ref=c1ca02f2b5f4d447b64c75b1708ff0225acf6226\n",
      "<Response [200]>\n",
      "https://api.github.com/repositories/77928436/contents/Jenkinsfile?ref=c42e99b7d2de4ef91e273b3ddb9b670f9b6148df\n",
      "<Response [200]>\n",
      "https://api.github.com/repositories/116803249/contents/Jenkinsfile?ref=9230501a85a80fd2869819be3126791b49e2270e\n",
      "<Response [200]>\n",
      "https://api.github.com/repositories/106619917/contents/Jenkinsfile?ref=0a4ee440ecc89a34fdf3d7a9ea43e0a60b7df8f9\n",
      "<Response [200]>\n",
      "https://api.github.com/repositories/109198436/contents/Jenkinsfile?ref=30765b2b38e10fe927573f249ec6cf74914bd81d\n",
      "<Response [200]>\n",
      "https://api.github.com/repositories/109846332/contents/Jenkinsfile?ref=3674fcf69926768e5bda661cdefd3db6d5cab649\n",
      "<Response [200]>\n",
      "https://api.github.com/repositories/126787135/contents/Jenkinsfile?ref=8e7e6e6be1184328e0bc72b5e22514ef709148f1\n",
      "<Response [200]>\n",
      "https://api.github.com/repositories/73967660/contents/pipeline/Jenkinsfile?ref=9d539d0d3f09c98b7a6a8ebb5fd596b866821156\n",
      "<Response [200]>\n",
      "https://api.github.com/repositories/109199781/contents/Jenkinsfile?ref=24cf0b2cac046cb3164d73cd3a42cdfcc55634f9\n",
      "<Response [200]>\n",
      "https://api.github.com/repositories/73967660/contents/pipeline_new/Jenkinsfile?ref=e3791e8d4edcee48b339f3e7367ddc0318504d96\n",
      "<Response [200]>\n",
      "https://api.github.com/repositories/122284650/contents/Jenkinsfile?ref=922dfffe6d5a3e0cb9f0857609a23d2b0070b313\n",
      "<Response [200]>\n",
      "https://api.github.com/repositories/69695836/contents/Jenkinsfile?ref=d05fed570feb226fd474c4876cb283dcbcc9f60f\n",
      "<Response [200]>\n",
      "https://api.github.com/repositories/108299631/contents/Jenkinsfile?ref=f73c81560fbd53f112e213fcd6650520c816b27f\n",
      "<Response [200]>\n",
      "https://api.github.com/repositories/60536546/contents/Jenkinsfile?ref=6a53ad05248af192427609bfd2c4083be7e2d1b2\n",
      "<Response [200]>\n",
      "https://api.github.com/repositories/120029445/contents/Jenkinsfile?ref=c47bba4a570b27f60debe9f912ab83ab0cc038ee\n",
      "<Response [200]>\n",
      "https://api.github.com/repositories/105199856/contents/Jenkinsfile?ref=179318a9fdf51f0fc63394d98e84f50310d9e074\n",
      "<Response [200]>\n",
      "https://api.github.com/repositories/95562016/contents/arachnijenkinsfile/scan/Jenkinsfile?ref=7103f700c2f35c5e661cbe76a2f7112b80e2c46e\n",
      "<Response [200]>\n",
      "https://api.github.com/repositories/127437610/contents/Jenkinsfile?ref=154b635a471f7cea6dacf8cfe5e5b43799654cbd\n",
      "<Response [200]>\n",
      "https://api.github.com/repositories/95562016/contents/arachnijenkinsfile/alljobs/Jenkinsfile?ref=3ae836d8b1c2a33bc0a509284dc17b9aa3e09aad\n",
      "<Response [200]>\n",
      "https://api.github.com/repositories/95766189/contents/Jenkinsfile?ref=4ef83f9eba51981058094b458bc68bf2cead3b6a\n",
      "<Response [200]>\n",
      "https://api.github.com/repositories/131543647/contents/Jenkinsfile?ref=c5dace14edbc50fdcc54e1ddd885f35c449e23e9\n",
      "<Response [200]>\n",
      "https://api.github.com/repositories/121293237/contents/Jenkinsfile?ref=ea11833d292f2b911004745c731189507af2f877\n",
      "<Response [200]>\n",
      "https://api.github.com/repositories/111412250/contents/Jenkinsfile?ref=efcc8b1dc5d7cf21e2409741bafbdf4ba7c587d3\n",
      "<Response [200]>\n",
      "https://api.github.com/repositories/131533157/contents/01-Starter/esta-webjs-2/Jenkinsfile?ref=6b70b50d9c6e7e5adf2411a3d061e989e8d1f38e\n",
      "<Response [200]>\n",
      "https://api.github.com/repositories/122144292/contents/Jenkinsfile?ref=fbf091250a41a3efa9d5dbcf98b45e9aa4074c69\n",
      "<Response [200]>\n",
      "https://api.github.com/repositories/101343706/contents/Jenkinsfile?ref=2a05c67cb9a22a88fd34b833788767ae57571d33\n",
      "<Response [200]>\n",
      "https://api.github.com/repositories/124550763/contents/Jenkinsfile.txt?ref=0ceb7b2a900e78dd6c35d532013c3f60aadd3a64\n",
      "<Response [200]>\n",
      "https://api.github.com/repositories/121804316/contents/TestJenkinsfile?ref=812f5737fb78ce7cb041deab69a6ef7305f3d1aa\n",
      "<Response [200]>\n",
      "https://api.github.com/repositories/121804316/contents/DeployJenkinsfile?ref=1190701907343d9f8cb5539c63d420c8e8c5050f\n",
      "<Response [200]>\n",
      "https://api.github.com/repositories/117981903/contents/Jenkinsfile.groovy?ref=21fb9e4444da90a4739006e747dd8ffd6e0f79ce\n",
      "<Response [200]>\n",
      "https://api.github.com/repositories/110674800/contents/Jenkinsfile_25?ref=386523837b1bdae32194e6184c965a91e1cc4b3d\n",
      "<Response [200]>\n",
      "https://api.github.com/repositories/68904737/contents/content/posts/20161227-jenkinsfile.md?ref=f7389270852e5afad5fe8730879de7f599d3819d\n",
      "<Response [200]>\n",
      "https://api.github.com/repositories/121804316/contents/PrTestJenkinsfile?ref=1190701907343d9f8cb5539c63d420c8e8c5050f\n",
      "<Response [200]>\n",
      "https://api.github.com/repositories/119714353/contents/jenkins/holding-page/HoldingPageJenkinsfile?ref=77e3b79621dffaa27486fb1cbeba44df770e0a8d\n",
      "<Response [200]>\n",
      "https://api.github.com/repositories/119714353/contents/jenkins/bluegreen/BlueGreenDeployJenkinsfile?ref=b17ad989e5876fe395cc5243c3d8d63d2f49a4a9\n",
      "<Response [200]>\n",
      "https://api.github.com/repositories/74608936/contents/_posts/2016-10-21-checkstyle-findbugs-results-jenkinsfile.markdown?ref=28c1018d8c64c96ea90432b672dfc79a35e368c6\n",
      "<Response [200]>\n"
     ]
    }
   ],
   "source": [
    "''' Iteratively retrieving the raw text content of all the jenkinsfiles returned by the API call and appending to a single textfile called \"Jenkinsfile.\"'''\n",
    "\n",
    "print('Attempting to retrieve jenkinsfile(s) from various GitHub repositories through it\\'s REST API...')\n",
    "logging.info('Attempting to retrieve jenkinsfile(s) from various GitHub repositories through it\\'s REST API...')\n",
    "\n",
    "number = 1 # iteratively store jenkinsfiles locally.\n",
    "try:\n",
    "    for repo in repositories.json()['items']:\n",
    "        print (repo['url'])\n",
    "        logging.info (repo['url'])\n",
    "        jenkinsfile = requests.get(repo['url'], auth = ('kshirsagarpratik', 'Chinku95')) # Authentication for GitHub\n",
    "        print(jenkinsfile)\n",
    "        logging.info(jenkinsfile)\n",
    "        jenkinsfile_content = requests.get(jenkinsfile.json()['download_url'], auth = ('kshirsagarpratik', 'Chinku95'))\n",
    "        file_pointer = open('Jenkinsfile' + str(number) + '.txt', 'a+')\n",
    "        file_pointer.write(jenkinsfile_content.text)\n",
    "        file_pointer.close()\n",
    "        number = number + 1\n",
    "except Exception as e:\n",
    "    print('Error occured in retrieving jenkinsfile(s)')\n",
    "    logging.error('Error occured in retrieving jenkinsfile(s)')\n",
    "    # LOG THIS INTO SOME FILE"
   ]
  },
  {
   "cell_type": "code",
   "execution_count": null,
   "metadata": {},
   "outputs": [],
   "source": []
  },
  {
   "cell_type": "code",
   "execution_count": null,
   "metadata": {},
   "outputs": [],
   "source": []
  },
  {
   "cell_type": "code",
   "execution_count": null,
   "metadata": {},
   "outputs": [],
   "source": []
  }
 ],
 "metadata": {
  "kernelspec": {
   "display_name": "Python 3",
   "language": "python",
   "name": "python3"
  },
  "language_info": {
   "codemirror_mode": {
    "name": "ipython",
    "version": 3
   },
   "file_extension": ".py",
   "mimetype": "text/x-python",
   "name": "python",
   "nbconvert_exporter": "python",
   "pygments_lexer": "ipython3",
   "version": "3.6.4"
  }
 },
 "nbformat": 4,
 "nbformat_minor": 2
}
