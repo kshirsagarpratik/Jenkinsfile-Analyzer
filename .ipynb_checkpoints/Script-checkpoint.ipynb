{
 "cells": [
  {
   "cell_type": "markdown",
   "metadata": {},
   "source": [
    "The first step is to find and retrieve Jenkinsfile(s) from various open source repositories. We decided to use GitHub's REST API for our application. We are trying to access a jenkinsfile's raw content so that we can append it to one text file that contains all the jenkinsfiles' contents. This process will streamline parsing and generating results of analyses later on.\n",
    "\n",
    "We are using a Jupyter Notebook from Anaconda with Python 3.6, we use the following packages to start off with our task."
   ]
  },
  {
   "cell_type": "code",
   "execution_count": 1,
   "metadata": {},
   "outputs": [],
   "source": [
    "import requests # Helps working with HTTP requests such as GitHub API.\n",
    "import os # For performing tasks on shell.\n",
    "import subprocess # For performing tasks on shell.\n",
    "import logging # For creating log files"
   ]
  },
  {
   "cell_type": "code",
   "execution_count": 2,
   "metadata": {},
   "outputs": [],
   "source": [
    "'''Configure the log file'''\n",
    "LOG_FILENAME = 'course_proj.log'\n",
    "logging.basicConfig(\n",
    "    filename=LOG_FILENAME,\n",
    "    level=logging.DEBUG,\n",
    "    format='%(asctime)s %(levelname)s %(message)s',\n",
    "    filemode='w'\n",
    ")"
   ]
  },
  {
   "cell_type": "code",
   "execution_count": 3,
   "metadata": {},
   "outputs": [],
   "source": [
    "'''GitHub REST API at work with the Python REQUESTS package.\n",
    "\n",
    "We ran a query that gives us all the files whose names match the string \"jenkinsfiles\", following proper convention.'''\n",
    "\n",
    "repositories = requests.get('https://api.github.com/search/code?q=filename:jenkinsfile', auth = ('kshirsagarpratik', 'Chinku95'))"
   ]
  },
  {
   "cell_type": "code",
   "execution_count": 4,
   "metadata": {},
   "outputs": [
    {
     "name": "stdout",
     "output_type": "stream",
     "text": [
      "Attempting to retrieve jenkinsfile(s) from various GitHub repositories through it's REST API...\n",
      "https://api.github.com/repositories/88112577/contents/Jenkinsfile?ref=14814a33ebb03baa252c1385e47f00b955217ace\n",
      "<Response [200]>\n",
      "https://api.github.com/repositories/88273131/contents/Jenkinsfile?ref=ee5ae235c7e382ae49205233aef32b676648ff59\n",
      "<Response [200]>\n",
      "https://api.github.com/repositories/108844400/contents/tools/jenkins/Jenkinsfile?ref=98e7def4435ed3b5773a13d476a8bc6032ad7365\n",
      "<Response [200]>\n",
      "https://api.github.com/repositories/110194650/contents/Jenkinsfile?ref=856e8d527d3a288cdfe4a5076558e4175911c461\n",
      "<Response [200]>\n",
      "https://api.github.com/repositories/80198176/contents/Jenkinsfile?ref=2b917b8e76d59e74f47aa02af32565efc3ba7aea\n",
      "<Response [200]>\n",
      "https://api.github.com/repositories/77158438/contents/dotNet/Jenkinsfile?ref=531ed974f6e1a50d924e473bc1d70403a77731df\n",
      "<Response [200]>\n",
      "https://api.github.com/repositories/77158438/contents/tibco/Jenkinsfile?ref=531ed974f6e1a50d924e473bc1d70403a77731df\n",
      "<Response [200]>\n",
      "https://api.github.com/repositories/77158438/contents/tibco/lib/Jenkinsfile?ref=531ed974f6e1a50d924e473bc1d70403a77731df\n",
      "<Response [200]>\n",
      "https://api.github.com/repositories/80192671/contents/Jenkinsfile?ref=69265da3c5c40d61939d6ccff235bbd12f15d8a4\n",
      "<Response [200]>\n",
      "https://api.github.com/repositories/80513797/contents/Jenkinsfile?ref=137f2a73f1d5801beb3b44a3170ce9a5de2eb5b8\n",
      "<Response [200]>\n",
      "https://api.github.com/repositories/48091792/contents/Jenkinsfile?ref=0f5ddd53655809d422682c35cca1a9e6be44fc8a\n",
      "<Response [200]>\n",
      "https://api.github.com/repositories/75433678/contents/Jenkinsfile?ref=132ba934116f85bbc315b1b247fe5b19d868e0f3\n",
      "<Response [200]>\n",
      "https://api.github.com/repositories/54325959/contents/global-library-examples/global-function/Jenkinsfile?ref=291ebcddae5bd0e0d3b11b030f0a801f0cd8343e\n",
      "<Response [200]>\n",
      "https://api.github.com/repositories/54325959/contents/jenkinsfile-examples/msbuild/Jenkinsfile?ref=291ebcddae5bd0e0d3b11b030f0a801f0cd8343e\n",
      "<Response [200]>\n",
      "https://api.github.com/repositories/54325959/contents/jenkinsfile-examples/nodejs-build-test-deploy-docker-notify/Jenkinsfile?ref=291ebcddae5bd0e0d3b11b030f0a801f0cd8343e\n",
      "<Response [200]>\n",
      "https://api.github.com/repositories/56093376/contents/Jenkinsfile?ref=898f4583411417c226b3152889a9cb43d839424b\n",
      "<Response [200]>\n",
      "https://api.github.com/repositories/57173697/contents/packages/file-icons/examples/Jenkinsfile?ref=36183126e7de1f0dbbda7ba674a282569f7c52ba\n",
      "<Response [200]>\n",
      "https://api.github.com/repositories/62425434/contents/Jenkinsfile?ref=e6464acf4fc5293344ed752f5c3c85a81e10d2d2\n",
      "<Response [200]>\n",
      "https://api.github.com/repositories/65147917/contents/Jenkinsfile?ref=a28a4629dbb0da9b6989e3bb570b53c04ddd8d41\n",
      "<Response [200]>\n",
      "https://api.github.com/repositories/65979226/contents/Jenkinsfile?ref=32b3fcc88357e6b8ac07335e94cb7f4099a474c7\n",
      "<Response [200]>\n",
      "https://api.github.com/repositories/68293093/contents/Jenkinsfile?ref=d4f9cbea25eb7b892000f9e00e6ba198129e62f1\n",
      "<Response [200]>\n",
      "https://api.github.com/repositories/67577381/contents/Jenkinsfile?ref=1574c9a193488d70406ce61640839e8464715333\n",
      "<Response [200]>\n",
      "https://api.github.com/repositories/69360118/contents/Jenkinsfile?ref=ebbb7498803336c6ea9a431760b86c0c414aed4e\n",
      "<Response [200]>\n",
      "https://api.github.com/repositories/70740988/contents/Jenkinsfile?ref=561aede6f735e2971bfaaf67775d5f87e9915066\n",
      "<Response [200]>\n",
      "https://api.github.com/repositories/67614389/contents/Jenkinsfile?ref=2555e9c30e082f2b7479e5f47b046746aaaaea23\n",
      "<Response [200]>\n",
      "https://api.github.com/repositories/72789088/contents/Jenkinsfile?ref=4054b47c97e9d077dc35f5f8317e581da9858d45\n",
      "<Response [200]>\n",
      "https://api.github.com/repositories/74008252/contents/Jenkinsfile?ref=72efbe463ca4b1e27f9152f1a3b5731b3580a2a9\n",
      "<Response [200]>\n",
      "https://api.github.com/repositories/117947200/contents/Jenkinsfile?ref=a75f2f963697682e05f23df316aab345bed25940\n",
      "<Response [200]>\n",
      "https://api.github.com/repositories/118096022/contents/Jenkinsfile?ref=27c853d17de1662b5f57ad82086668f756db6afe\n",
      "<Response [200]>\n",
      "https://api.github.com/repositories/117836695/contents/Jenkinsfile?ref=6cc2a08d02194d0b1ebc971b053cde79c06d7ec4\n",
      "<Response [200]>\n"
     ]
    }
   ],
   "source": [
    "''' Iteratively retrieving the raw text content of all the jenkinsfiles returned by the API call and appending to a single textfile called \"Jenkinsfile.\"'''\n",
    "\n",
    "print('Attempting to retrieve jenkinsfile(s) from various GitHub repositories through it\\'s REST API...')\n",
    "logging.info('Attempting to retrieve jenkinsfile(s) from various GitHub repositories through it\\'s REST API...')\n",
    "try:\n",
    "    for repo in repositories.json()['items']:\n",
    "        print (repo['url'])\n",
    "        logging.info (repo['url'])\n",
    "        jenkinsfile = requests.get(repo['url'], auth = ('kshirsagarpratik', 'Chinku95')) # Authentication for GitHub\n",
    "        print(jenkinsfile)\n",
    "        logging.info(jenkinsfile)\n",
    "        jenkinsfile_content = requests.get(jenkinsfile.json()['download_url'], auth = ('kshirsagarpratik', 'Chinku95'))\n",
    "        file_pointer = open('Jenkinsfile.txt', 'a+')\n",
    "        file_pointer.write(jenkinsfile_content.text)\n",
    "        file_pointer.close()\n",
    "except Exception as e:\n",
    "    print('Error occured in retrieving jenkinsfile(s)')\n",
    "    logging.error('Error occured in retrieving jenkinsfile(s)')\n",
    "    # LOG THIS INTO SOME FILE"
   ]
  },
  {
   "cell_type": "code",
   "execution_count": null,
   "metadata": {},
   "outputs": [],
   "source": []
  },
  {
   "cell_type": "code",
   "execution_count": 19,
   "metadata": {},
   "outputs": [],
   "source": []
  },
  {
   "cell_type": "code",
   "execution_count": null,
   "metadata": {},
   "outputs": [],
   "source": []
  }
 ],
 "metadata": {
  "kernelspec": {
   "display_name": "Python 3",
   "language": "python",
   "name": "python3"
  },
  "language_info": {
   "codemirror_mode": {
    "name": "ipython",
    "version": 3
   },
   "file_extension": ".py",
   "mimetype": "text/x-python",
   "name": "python",
   "nbconvert_exporter": "python",
   "pygments_lexer": "ipython3",
   "version": "3.6.4"
  }
 },
 "nbformat": 4,
 "nbformat_minor": 2
}
