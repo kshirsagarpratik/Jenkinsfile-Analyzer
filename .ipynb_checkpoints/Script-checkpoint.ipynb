{
 "cells": [
  {
   "cell_type": "markdown",
   "metadata": {},
   "source": [
    "The first step is to find and retrieve Jenkinsfile(s) from various open source repositories. We decided to use GitHub's REST API for our application. We are trying to access a jenkinsfile's raw content so that we can append it to one text file that contains all the jenkinsfiles' contents. This process will streamline parsing and generating results of analyses later on.\n",
    "\n",
    "We are using a Jupyter Notebook from Anaconda with Python 3.6, we use the following packages to start off with our task."
   ]
  },
  {
   "cell_type": "code",
   "execution_count": 3,
   "metadata": {},
   "outputs": [],
   "source": [
    "import requests # Helps working with HTTP requests such as GitHub API.\n",
    "import os # For performing tasks on shell.\n",
    "import subprocess # For performing tasks on shell."
   ]
  },
  {
   "cell_type": "code",
   "execution_count": 9,
   "metadata": {},
   "outputs": [],
   "source": [
    "'''GitHub REST API at work with the Python REQUESTS package.\n",
    "\n",
    "We ran a query that gives us all the files whose names match the string \"jenkinsfiles\", following proper convention.'''\n",
    "\n",
    "repositories = requests.get('https://api.github.com/search/code?q=filename:jenkinsfile', auth = ('kshirsagarpratik', 'Chinku95'))"
   ]
  },
  {
   "cell_type": "code",
   "execution_count": 22,
   "metadata": {},
   "outputs": [
    {
     "name": "stdout",
     "output_type": "stream",
     "text": [
      "Attempting to retrieve jenkinsfile(s) from various GitHub repositories through it's REST API\n",
      "https://api.github.com/repositories/1319302/contents/Jenkinsfile?ref=380ab025880d831102d5cbbf5b429f1ff291272b\n",
      "<Response [200]>\n",
      "https://api.github.com/repositories/77328211/contents/Jenkinsfile?ref=c502ef25554e741ef72b4811c36f2b44873f1daf\n",
      "<Response [200]>\n",
      "https://api.github.com/repositories/103814838/contents/Jenkinsfile?ref=30f1c85438f4a19a0841bf87e11faf30cc519fb8\n",
      "<Response [200]>\n",
      "https://api.github.com/repositories/29193296/contents/Jenkinsfile?ref=8d9bc89b0c4ab9c23bdf1d617466b9be37ddde20\n",
      "<Response [200]>\n",
      "https://api.github.com/repositories/103943805/contents/Jenkinsfile?ref=09d77d643f726386931a8c758d39ad6cd5796362\n",
      "<Response [200]>\n",
      "https://api.github.com/repositories/103448225/contents/Jenkinsfile?ref=d45715e3bd756d2fb2748f8deb1b79871eb7aa3e\n",
      "<Response [200]>\n",
      "https://api.github.com/repositories/78342459/contents/Jenkinsfile?ref=fb59802ca4cf94d1f76fc6017f99f6a419b7a893\n",
      "<Response [200]>\n",
      "https://api.github.com/repositories/78657595/contents/Jenkinsfile?ref=4f05628703c58a49821d84da919b7833de916928\n",
      "<Response [200]>\n",
      "https://api.github.com/repositories/88749360/contents/Jenkinsfile?ref=e5d895a33924148ab4c936d9e882c0ab7b049a2f\n",
      "<Response [200]>\n",
      "https://api.github.com/repositories/88729304/contents/frontend/Jenkinsfile?ref=b7593dba399d75a00feac7949587f5a090f0e331\n",
      "<Response [200]>\n",
      "https://api.github.com/repositories/88729304/contents/backend/Jenkinsfile?ref=bf135b28bed54936b3599a1c8b972c872a3d6672\n",
      "<Response [200]>\n",
      "https://api.github.com/repositories/113832591/contents/Jenkinsfile?ref=23ee67932c3d91a42e778a2e0f7321b7af70f572\n",
      "<Response [200]>\n",
      "https://api.github.com/repositories/114006113/contents/Jenkinsfile?ref=53051eb7bc305c5effeb39efdecf3413cabbea30\n",
      "<Response [200]>\n",
      "https://api.github.com/repositories/113746233/contents/Jenkinsfile?ref=be7622e7c3cf8ea138fe446e5c03286155b138c3\n",
      "<Response [200]>\n",
      "https://api.github.com/repositories/56943816/contents/Jenkinsfile?ref=e1f7c466397a54b6ae02169060217a08c7cc1b9e\n",
      "<Response [200]>\n",
      "https://api.github.com/repositories/36767285/contents/Jenkinsfile?ref=3a4d8375e294ef0e1e22f13ff2ba01ac814474bd\n",
      "<Response [200]>\n",
      "https://api.github.com/repositories/38182185/contents/Jenkinsfile?ref=6c7194954f89034c97b60167ab9013b3e92822a2\n",
      "<Response [200]>\n",
      "https://api.github.com/repositories/41972099/contents/Jenkinsfile?ref=a82bc70d564f197381c764cab47394c517f7b9af\n",
      "<Response [200]>\n",
      "https://api.github.com/repositories/49714644/contents/Jenkinsfile?ref=4338181cfe33317b51b3aaf50fb6ee2d437912af\n",
      "<Response [200]>\n",
      "https://api.github.com/repositories/51498041/contents/Jenkinsfile?ref=b13b8ade74281dd851c8fab6400427bec704ca77\n",
      "<Response [200]>\n",
      "https://api.github.com/repositories/54573213/contents/Jenkinsfile?ref=5ecf093d88692870982a638ced45de6a82d55672\n",
      "<Response [200]>\n",
      "https://api.github.com/repositories/55704797/contents/Jenkinsfile?ref=bb14cf0a4277f55e1895960d5d90f120128d1295\n",
      "<Response [200]>\n",
      "https://api.github.com/repositories/60828732/contents/Jenkinsfile?ref=45f0d3143966fd70fdb881af0015e937a04e9f98\n",
      "<Response [200]>\n",
      "https://api.github.com/repositories/63858962/contents/Jenkinsfile?ref=17bf0b57bee8445598fab238491b37dbac870e82\n",
      "<Response [200]>\n",
      "https://api.github.com/repositories/67447068/contents/Jenkinsfile?ref=36dffc312252c89a7b78fed175e72413366541b2\n",
      "<Response [200]>\n",
      "https://api.github.com/repositories/68799037/contents/Jenkinsfile?ref=270b0cd6663547b4923cabca9c451f19f63bfd16\n",
      "<Response [200]>\n",
      "https://api.github.com/repositories/67627289/contents/Jenkinsfile?ref=7c60b85b484d2ebbab527b7affbd393db23cd682\n",
      "<Response [200]>\n",
      "https://api.github.com/repositories/76290513/contents/Jenkinsfile?ref=90272f678fd7c3541ffbdf3ee8cb54844314d65c\n",
      "<Response [200]>\n",
      "https://api.github.com/repositories/72126283/contents/Jenkinsfile?ref=52d2a9a36d86e48cd7bdd1f3fdbd3894109e4e78\n",
      "<Response [200]>\n",
      "https://api.github.com/repositories/73517002/contents/Jenkinsfile?ref=e6c3e626414601125be3c15f7981ead5b21e05de\n",
      "<Response [200]>\n"
     ]
    }
   ],
   "source": [
    "''' Iteratively retrieving the raw text content of all the jenkinsfiles returned by the API call and appending to a single textfile called \"Jenkinsfile.\"'''\n",
    "\n",
    "print('Attempting to retrieve jenkinsfile(s) from various GitHub repositories through it\\'s REST API...')\n",
    "try:\n",
    "    for repo in repositories.json()['items']:\n",
    "        print (repo['url'])\n",
    "        jenkinsfile = requests.get(repo['url'], auth = ('kshirsagarpratik', 'Chinku95')) # Authentication for GitHub\n",
    "        print(jenkinsfile)\n",
    "        jenkinsfile_content = requests.get(jenkinsfile.json()['download_url'], auth = ('kshirsagarpratik', 'Chinku95'))\n",
    "        file_pointer = open('Jenkinsfile.txt', 'a+')\n",
    "        file_pointer.write(jenkinsfile_content.text)\n",
    "        file_pointer.close()\n",
    "except Exception as e:\n",
    "    print('Error occured in retrieving jenkinsfile(s)')\n",
    "    # LOG THIS INTO SOME FILE"
   ]
  },
  {
   "cell_type": "code",
   "execution_count": 16,
   "metadata": {},
   "outputs": [
    {
     "name": "stdout",
     "output_type": "stream",
     "text": [
      "def gitCommit() {\n",
      "    sh \"git rev-parse HEAD > GIT_COMMIT\"\n",
      "    def gitCommit = readFile('GIT_COMMIT').trim()\n",
      "    sh \"rm -f GIT_COMMIT\"\n",
      "    return gitCommit\n",
      "}\n",
      "\n",
      "node {\n",
      "    // Checkout source code from Git\n",
      "    stage 'Checkout'\n",
      "    checkout scm\n",
      "\n",
      "    // Build Docker image\n",
      "    stage 'Build'\n",
      "    sh \"docker build -t qcon2016sfmontyo/qcon:${gitCommit()} .\"\n",
      "\n",
      "    // Log in and push image to GitLab\n",
      "    stage 'Publish'\n",
      "    withCredentials(\n",
      "        [[\n",
      "            $class: 'UsernamePasswordMultiBinding',\n",
      "            credentialsId: 'qcon2016sfmontyo',\n",
      "            passwordVariable: 'DOCKERHUB_PASSWORD',\n",
      "            usernameVariable: 'DOCKERHUB_USERNAME'\n",
      "        ]]\n",
      "    ) {\n",
      "        sh \"docker login -u ${env.DOCKERHUB_USERNAME} -p ${env.DOCKERHUB_PASSWORD} -e demo@mesosphere.com\"\n",
      "        sh \"docker push mesosphere/qcon:${gitCommit()}\"\n",
      "    }\n",
      "}\n"
     ]
    }
   ],
   "source": []
  },
  {
   "cell_type": "code",
   "execution_count": 19,
   "metadata": {},
   "outputs": [],
   "source": []
  },
  {
   "cell_type": "code",
   "execution_count": null,
   "metadata": {},
   "outputs": [],
   "source": []
  }
 ],
 "metadata": {
  "kernelspec": {
   "display_name": "Python 3",
   "language": "python",
   "name": "python3"
  },
  "language_info": {
   "codemirror_mode": {
    "name": "ipython",
    "version": 3
   },
   "file_extension": ".py",
   "mimetype": "text/x-python",
   "name": "python",
   "nbconvert_exporter": "python",
   "pygments_lexer": "ipython3",
   "version": "3.6.4"
  }
 },
 "nbformat": 4,
 "nbformat_minor": 2
}
